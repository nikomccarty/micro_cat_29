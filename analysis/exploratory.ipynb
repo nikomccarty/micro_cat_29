{
 "cells": [
  {
   "cell_type": "code",
   "execution_count": 128,
   "metadata": {},
   "outputs": [
    {
     "ename": "ModuleNotFoundError",
     "evalue": "No module named 'micro_cat_29'",
     "output_type": "error",
     "traceback": [
      "\u001b[1;31m---------------------------------------------------------------------------\u001b[0m",
      "\u001b[1;31mModuleNotFoundError\u001b[0m                       Traceback (most recent call last)",
      "\u001b[1;32m<ipython-input-128-b4c733fa8e0a>\u001b[0m in \u001b[0;36m<module>\u001b[1;34m()\u001b[0m\n\u001b[0;32m     15\u001b[0m \u001b[1;32mfrom\u001b[0m \u001b[0mbebi103\u001b[0m \u001b[1;32mimport\u001b[0m \u001b[0mviz\u001b[0m\u001b[1;33m\u001b[0m\u001b[1;33m\u001b[0m\u001b[0m\n\u001b[0;32m     16\u001b[0m \u001b[1;33m\u001b[0m\u001b[0m\n\u001b[1;32m---> 17\u001b[1;33m \u001b[1;32mimport\u001b[0m \u001b[0mmicro_cat_29\u001b[0m\u001b[1;33m\u001b[0m\u001b[1;33m\u001b[0m\u001b[0m\n\u001b[0m\u001b[0;32m     18\u001b[0m \u001b[1;33m\u001b[0m\u001b[0m\n\u001b[0;32m     19\u001b[0m \u001b[1;32mimport\u001b[0m \u001b[0mnumpy\u001b[0m \u001b[1;32mas\u001b[0m \u001b[0mnp\u001b[0m\u001b[1;33m\u001b[0m\u001b[1;33m\u001b[0m\u001b[0m\n",
      "\u001b[1;31mModuleNotFoundError\u001b[0m: No module named 'micro_cat_29'"
     ]
    }
   ],
   "source": [
    "import hvplot\n",
    "import holoviews as hv\n",
    "import hvplot.pandas\n",
    "import bokeh_catplot\n",
    "import bokeh \n",
    "import bokeh.io\n",
    "from bokeh.themes import Theme\n",
    "from bokeh.io import output_file, save, output_notebook\n",
    "import datashader as ds\n",
    "from holoviews.operation.datashader import datashade\n",
    "from bokeh.plotting import figure\n",
    "import numba\n",
    "import colorcet as cc\n",
    "import bebi103\n",
    "from bebi103 import viz\n",
    "\n",
    "import micro_cat_29\n",
    "\n",
    "import numpy as np\n",
    "import scipy.stats\n",
    "import scipy.special\n",
    "import pandas as pd\n",
    "\n",
    "bokeh.io.output_notebook()\n",
    "hv.extension('bokeh')"
   ]
  },
  {
   "cell_type": "markdown",
   "metadata": {},
   "source": [
    "## Microtubule Catastrophe: Notebook #1\n",
    "\n",
    "Microtubules are intracellular filaments, responsible for shuttling cargo throughout the cellular interior. When viewed under the microscope in the presence of ATP, microtubules can be observed slowly growing, then rapidly collapsing, as they explore the environment around them.\n",
    "\n",
    "This latter feat -- rapid collapse -- is a process known as \"microtubule catastrophe\". To explore this phenomenon in a quantitative manner, Melissa K. Gardner, Marija Zanic, Christopher Gell, Volker Bormuth and Jonathan Howard performed experiments that uncovered a role for the kinesins, Kip3 and MCAK, in controlling microtubule catastrophe.\n",
    "\n",
    "The paper is: **Gardner MK, _et al._ \"Depolymerizing Kinesins Kip3 and MCAK Shape Cellular Microtubule Architecture by Differential Control of Catastrophe\" _Cell_ (2011)**.\n",
    "\n",
    "Throughout this analysis, we will refer to this paper, as we go from exploratory data analysis to in-depth analysis and mathematical modeling.\n",
    "\n",
    "The dataset used in this analysis contains observations for the times to microtubule catastrophe (in seconds) for tubulin that is either _labeled_ with GFP, or _unlabeled_. The authors used TIRF microscopy to assess microtubule catastrophe for the labeled dataset, and used differential interference microscopy (DIC) to evaluate time to catastrophe of unlabeled tubulin. \n",
    "\n",
    "TIRF is much easier to perform than DIC, which would make subsequent experiments simpler, but the authors first had to confirm that the addition of AlexaFluor 488 did not affect catastrophe times.\n",
    "\n",
    "Throughout these notebooks, you should have Justin Bois' Utilities Package for BE/Bi103 installed on your machine. To do that, you can use pip:\n",
    "\n",
    "In your Anaconda terminal, simply run: pip install bebi103\n",
    "\n",
    "_This is notebook 1 of 2. The order of analysis is:_\n",
    "\n",
    "1) **exploratory.ipynb**\n",
    "\n",
    "2) models.ipynb\n",
    "\n",
    "In this notebook (#1), we will perform an initial, exploratory data analysis of microtubule catastrophe. This analysis includes ECDFs that compare labeled vs. unlabeled tubulin. We also perform nonparametric bootstrapping to more critically analyze the distribution of labeled vs. unlabeled tubulin, and assess whether we can proceed, in future notebooks, with considerations of solely the labeled dataset."
   ]
  },
  {
   "cell_type": "code",
   "execution_count": 41,
   "metadata": {},
   "outputs": [
    {
     "data": {
      "text/html": [
       "<a href=\"https://www.cell.com/cell/fulltext/S0092-8674(11)01287-6?_returnURL=https%3A%2F%2Flinkinghub.elsevier.com%2Fretrieve%2Fpii%2FS0092867411012876%3Fshowall%3Dtrue\">Gardner et al. Cell (2011), link to paper.</a>"
      ],
      "text/plain": [
       "<IPython.core.display.HTML object>"
      ]
     },
     "metadata": {},
     "output_type": "display_data"
    },
    {
     "data": {
      "text/html": [
       "<a href=\"http://bebi103.caltech.edu.s3-website-us-east-1.amazonaws.com/2019a/content/homework/hw3/hw3.3.html\">Dataset download, link to course website.</a>"
      ],
      "text/plain": [
       "<IPython.core.display.HTML object>"
      ]
     },
     "metadata": {},
     "output_type": "display_data"
    }
   ],
   "source": [
    "from IPython.core.display import display, HTML\n",
    "display(HTML(\"\"\"<a href=\"https://www.cell.com/cell/fulltext/S0092-8674(11)01287-6?_returnURL=https%3A%2F%2Flinkinghub.elsevier.com%2Fretrieve%2Fpii%2FS0092867411012876%3Fshowall%3Dtrue\">Gardner et al. Cell (2011), link to paper.</a>\"\"\"))\n",
    "\n",
    "display(HTML(\"\"\"<a href=\"http://bebi103.caltech.edu.s3-website-us-east-1.amazonaws.com/2019a/content/homework/hw3/hw3.3.html\">Dataset download, link to course website.</a>\"\"\"))"
   ]
  },
  {
   "cell_type": "code",
   "execution_count": 95,
   "metadata": {},
   "outputs": [
    {
     "data": {
      "text/plain": [
       "(   Unnamed: 0  time to catastrophe (s)  labeled\n",
       " 0           0                    470.0     True\n",
       " 1           1                   1415.0     True\n",
       " 2           2                    130.0     True\n",
       " 3           3                    280.0     True\n",
       " 4           4                    550.0     True,\n",
       "      Unnamed: 0  time to catastrophe (s)  labeled\n",
       " 301         301                    180.0    False\n",
       " 302         302                    145.0    False\n",
       " 303         303                    745.0    False\n",
       " 304         304                    390.0    False\n",
       " 305         305                   1410.0    False)"
      ]
     },
     "execution_count": 95,
     "metadata": {},
     "output_type": "execute_result"
    }
   ],
   "source": [
    "#Read in the dataframe from Gardner et al.\n",
    "df = pd.read_csv('../data/gardner_time_to_catastrophe_dic_tidy.csv', na_values='*')\n",
    "df.head(), df.tail()"
   ]
  },
  {
   "cell_type": "markdown",
   "metadata": {},
   "source": [
    "This DataFrame contains two sets of microtubules: those that are labeled, and those that are not labeled. We want to evaluate whether or not \"labeling\" affects microtubule catastrophe times."
   ]
  },
  {
   "cell_type": "code",
   "execution_count": 43,
   "metadata": {},
   "outputs": [],
   "source": [
    "#Make a new, independent dataframe called df_label, that contains only \"labeled\" datapoints\n",
    "df_label = df.loc[df['labeled'] == True, :]\n",
    "\n",
    "#Make a new, independent dataframe called df_unlabel, that contains only \"unlabeled\" datapoints\n",
    "df_unlabel = df.loc[df['labeled'] == False, :]"
   ]
  },
  {
   "cell_type": "code",
   "execution_count": 44,
   "metadata": {},
   "outputs": [
    {
     "data": {
      "text/plain": [
       "(   Unnamed: 0  time to catastrophe (s)  labeled\n",
       " 0           0                    470.0     True\n",
       " 1           1                   1415.0     True\n",
       " 2           2                    130.0     True\n",
       " 3           3                    280.0     True\n",
       " 4           4                    550.0     True,\n",
       "      Unnamed: 0  time to catastrophe (s)  labeled\n",
       " 211         211                    355.0    False\n",
       " 212         212                    425.0    False\n",
       " 213         213                    540.0    False\n",
       " 214         214                    265.0    False\n",
       " 215         215                   1815.0    False)"
      ]
     },
     "execution_count": 44,
     "metadata": {},
     "output_type": "execute_result"
    }
   ],
   "source": [
    "#Visualize the new DataFrames\n",
    "df_label.head(), df_unlabel.head()"
   ]
  },
  {
   "cell_type": "markdown",
   "metadata": {},
   "source": [
    "Terrific! Now that we have two DataFrames, each corresponding to either \"labeled\" or \"unlabeled\" microtubules, we will visualize their distributions via plotting empirical distribution functions (ECDFs).\n",
    "\n",
    "To do this, we will import the GitHub module \"bebi103\" that we previously installed, and use the built-in function, bokeh_catplot.ecdf."
   ]
  },
  {
   "cell_type": "code",
   "execution_count": 45,
   "metadata": {},
   "outputs": [
    {
     "data": {
      "text/html": [
       "\n",
       "\n",
       "\n",
       "\n",
       "\n",
       "\n",
       "  <div class=\"bk-root\" id=\"a16bc77d-3ac5-4b9c-b2ea-db8b504ed334\" data-root-id=\"4154\"></div>\n"
      ]
     },
     "metadata": {},
     "output_type": "display_data"
    },
    {
     "data": {
      "application/javascript": [
       "(function(root) {\n",
       "  function embed_document(root) {\n",
       "    \n",
       "  var docs_json = {\"cf2e60bb-bd1c-45be-b333-9e37d32a447e\":{\"roots\":{\"references\":[{\"attributes\":{\"below\":[{\"id\":\"4163\",\"type\":\"LinearAxis\"}],\"center\":[{\"id\":\"4167\",\"type\":\"Grid\"},{\"id\":\"4172\",\"type\":\"Grid\"},{\"id\":\"4199\",\"type\":\"Legend\"}],\"left\":[{\"id\":\"4168\",\"type\":\"LinearAxis\"}],\"plot_height\":300,\"plot_width\":400,\"renderers\":[{\"id\":\"4190\",\"type\":\"GlyphRenderer\"},{\"id\":\"4205\",\"type\":\"GlyphRenderer\"}],\"title\":{\"id\":\"4192\",\"type\":\"Title\"},\"toolbar\":{\"id\":\"4179\",\"type\":\"Toolbar\"},\"x_range\":{\"id\":\"4155\",\"type\":\"DataRange1d\"},\"x_scale\":{\"id\":\"4159\",\"type\":\"LinearScale\"},\"y_range\":{\"id\":\"4157\",\"type\":\"DataRange1d\"},\"y_scale\":{\"id\":\"4161\",\"type\":\"LinearScale\"}},\"id\":\"4154\",\"subtype\":\"Figure\",\"type\":\"Plot\"},{\"attributes\":{\"data_source\":{\"id\":\"4201\",\"type\":\"ColumnDataSource\"},\"glyph\":{\"id\":\"4203\",\"type\":\"Circle\"},\"hover_glyph\":null,\"muted_glyph\":null,\"nonselection_glyph\":{\"id\":\"4204\",\"type\":\"Circle\"},\"selection_glyph\":null,\"view\":{\"id\":\"4206\",\"type\":\"CDSView\"}},\"id\":\"4205\",\"type\":\"GlyphRenderer\"},{\"attributes\":{},\"id\":\"4159\",\"type\":\"LinearScale\"},{\"attributes\":{\"source\":{\"id\":\"4186\",\"type\":\"ColumnDataSource\"}},\"id\":\"4191\",\"type\":\"CDSView\"},{\"attributes\":{},\"id\":\"4194\",\"type\":\"BasicTickFormatter\"},{\"attributes\":{\"callback\":null,\"data\":{\"Unnamed: 0\":[0,1,2,3,4,5,6,7,8,9,10,11,12,13,14,15,16,17,18,19,20,21,22,23,24,25,26,27,28,29,30,31,32,33,34,35,36,37,38,39,40,41,42,43,44,45,46,47,48,49,50,51,52,53,54,55,56,57,58,59,60,61,62,63,64,65,66,67,68,69,70,71,72,73,74,75,76,77,78,79,80,81,82,83,84,85,86,87,88,89,90,91,92,93,94,95,96,97,98,99,100,101,102,103,104,105,106,107,108,109,110,111,112,113,114,115,116,117,118,119,120,121,122,123,124,125,126,127,128,129,130,131,132,133,134,135,136,137,138,139,140,141,142,143,144,145,146,147,148,149,150,151,152,153,154,155,156,157,158,159,160,161,162,163,164,165,166,167,168,169,170,171,172,173,174,175,176,177,178,179,180,181,182,183,184,185,186,187,188,189,190,191,192,193,194,195,196,197,198,199,200,201,202,203,204,205,206,207,208,209,210],\"__ECDF\":{\"__ndarray__\":\"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\",\"dtype\":\"float64\",\"shape\":[211]},\"__dummy_cat\":[\" \",\" \",\" \",\" \",\" \",\" \",\" \",\" \",\" \",\" \",\" \",\" \",\" \",\" \",\" \",\" \",\" \",\" \",\" \",\" \",\" \",\" \",\" \",\" \",\" \",\" \",\" \",\" \",\" \",\" \",\" \",\" \",\" \",\" \",\" \",\" \",\" \",\" \",\" \",\" \",\" \",\" \",\" \",\" \",\" \",\" \",\" \",\" \",\" \",\" \",\" \",\" \",\" \",\" \",\" \",\" \",\" \",\" \",\" \",\" \",\" \",\" \",\" \",\" \",\" \",\" \",\" \",\" \",\" \",\" \",\" \",\" \",\" \",\" \",\" \",\" \",\" \",\" \",\" \",\" \",\" \",\" \",\" \",\" \",\" \",\" \",\" \",\" \",\" \",\" \",\" \",\" \",\" \",\" \",\" \",\" \",\" \",\" \",\" \",\" \",\" \",\" \",\" \",\" \",\" \",\" \",\" \",\" \",\" \",\" \",\" \",\" \",\" \",\" \",\" \",\" \",\" \",\" \",\" \",\" \",\" \",\" \",\" \",\" \",\" \",\" \",\" \",\" \",\" \",\" \",\" \",\" \",\" \",\" \",\" \",\" \",\" \",\" \",\" \",\" \",\" \",\" \",\" \",\" \",\" \",\" \",\" \",\" \",\" \",\" \",\" \",\" \",\" \",\" \",\" \",\" \",\" \",\" \",\" \",\" \",\" \",\" \",\" \",\" \",\" \",\" \",\" \",\" \",\" \",\" \",\" \",\" \",\" \",\" \",\" \",\" \",\" \",\" \",\" \",\" \",\" \",\" \",\" \",\" \",\" \",\" \",\" \",\" \",\" \",\" \",\" \",\" \",\" \",\" \",\" \",\" \",\" \",\" \",\" \",\" \",\" \",\" \",\" \",\" \",\" \",\" \",\" \",\" \",\" \",\" \",\" \"],\"__label\":[\" \",\" \",\" \",\" \",\" \",\" \",\" \",\" \",\" \",\" \",\" \",\" \",\" \",\" \",\" \",\" \",\" \",\" \",\" \",\" \",\" \",\" \",\" \",\" \",\" \",\" \",\" \",\" \",\" \",\" \",\" \",\" \",\" \",\" \",\" \",\" \",\" \",\" \",\" \",\" \",\" \",\" \",\" \",\" \",\" \",\" \",\" \",\" \",\" \",\" \",\" \",\" \",\" \",\" \",\" \",\" \",\" \",\" \",\" \",\" \",\" \",\" \",\" \",\" \",\" \",\" \",\" \",\" \",\" \",\" \",\" \",\" \",\" \",\" \",\" \",\" \",\" \",\" \",\" \",\" \",\" \",\" \",\" \",\" \",\" \",\" \",\" \",\" \",\" \",\" \",\" \",\" \",\" \",\" \",\" \",\" \",\" \",\" \",\" \",\" \",\" \",\" \",\" \",\" \",\" \",\" \",\" \",\" \",\" \",\" \",\" \",\" \",\" \",\" \",\" \",\" \",\" \",\" \",\" \",\" \",\" \",\" \",\" \",\" \",\" \",\" \",\" \",\" \",\" \",\" \",\" \",\" \",\" \",\" \",\" \",\" \",\" \",\" \",\" \",\" \",\" \",\" \",\" \",\" \",\" \",\" \",\" \",\" \",\" \",\" \",\" \",\" \",\" \",\" \",\" \",\" \",\" \",\" \",\" \",\" \",\" \",\" \",\" \",\" \",\" \",\" \",\" \",\" \",\" \",\" \",\" \",\" \",\" \",\" \",\" \",\" \",\" \",\" \",\" \",\" \",\" \",\" \",\" \",\" \",\" \",\" \",\" \",\" \",\" \",\" \",\" \",\" \",\" \",\" \",\" \",\" \",\" \",\" \",\" \",\" \",\" \",\" \",\" \",\" \",\" \",\" \",\" \",\" \",\" \",\" \",\" \"],\"index\":[0,1,2,3,4,5,6,7,8,9,10,11,12,13,14,15,16,17,18,19,20,21,22,23,24,25,26,27,28,29,30,31,32,33,34,35,36,37,38,39,40,41,42,43,44,45,46,47,48,49,50,51,52,53,54,55,56,57,58,59,60,61,62,63,64,65,66,67,68,69,70,71,72,73,74,75,76,77,78,79,80,81,82,83,84,85,86,87,88,89,90,91,92,93,94,95,96,97,98,99,100,101,102,103,104,105,106,107,108,109,110,111,112,113,114,115,116,117,118,119,120,121,122,123,124,125,126,127,128,129,130,131,132,133,134,135,136,137,138,139,140,141,142,143,144,145,146,147,148,149,150,151,152,153,154,155,156,157,158,159,160,161,162,163,164,165,166,167,168,169,170,171,172,173,174,175,176,177,178,179,180,181,182,183,184,185,186,187,188,189,190,191,192,193,194,195,196,197,198,199,200,201,202,203,204,205,206,207,208,209,210],\"labeled\":[true,true,true,true,true,true,true,true,true,true,true,true,true,true,true,true,true,true,true,true,true,true,true,true,true,true,true,true,true,true,true,true,true,true,true,true,true,true,true,true,true,true,true,true,true,true,true,true,true,true,true,true,true,true,true,true,true,true,true,true,true,true,true,true,true,true,true,true,true,true,true,true,true,true,true,true,true,true,true,true,true,true,true,true,true,true,true,true,true,true,true,true,true,true,true,true,true,true,true,true,true,true,true,true,true,true,true,true,true,true,true,true,true,true,true,true,true,true,true,true,true,true,true,true,true,true,true,true,true,true,true,true,true,true,true,true,true,true,true,true,true,true,true,true,true,true,true,true,true,true,true,true,true,true,true,true,true,true,true,true,true,true,true,true,true,true,true,true,true,true,true,true,true,true,true,true,true,true,true,true,true,true,true,true,true,true,true,true,true,true,true,true,true,true,true,true,true,true,true,true,true,true,true,true,true,true,true,true,true,true,true],\"time to catastrophe (s)\":{\"__ndarray__\":\"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\",\"dtype\":\"float64\",\"shape\":[211]}},\"selected\":{\"id\":\"4214\",\"type\":\"Selection\"},\"selection_policy\":{\"id\":\"4213\",\"type\":\"UnionRenderers\"}},\"id\":\"4186\",\"type\":\"ColumnDataSource\"},{\"attributes\":{\"axis_label\":\"time to catastrophe (s)\",\"formatter\":{\"id\":\"4194\",\"type\":\"BasicTickFormatter\"},\"ticker\":{\"id\":\"4164\",\"type\":\"BasicTicker\"}},\"id\":\"4163\",\"type\":\"LinearAxis\"},{\"attributes\":{\"callback\":null,\"data\":{\"Unnamed: 0\":[211,212,213,214,215,216,217,218,219,220,221,222,223,224,225,226,227,228,229,230,231,232,233,234,235,236,237,238,239,240,241,242,243,244,245,246,247,248,249,250,251,252,253,254,255,256,257,258,259,260,261,262,263,264,265,266,267,268,269,270,271,272,273,274,275,276,277,278,279,280,281,282,283,284,285,286,287,288,289,290,291,292,293,294,295,296,297,298,299,300,301,302,303,304,305],\"__ECDF\":{\"__ndarray__\":\"1e+5JU793j/CSDtWIIzkP9KOFQgj7eg/C4SRdqxA2D8AAAAAAADwP5qZmZmZmck/Fggj7ViB4D/tWIEw0o7lPwgj7ViBMNI/C4SRdqxAuD9RXkN5DeXlP7ICYaQdK8A/YaQdKxBG2j8mTv2eW+LkP5c49XtuidM/sgJhpB0r4D+amZmZmZnpP7fEqd9zS9w/1e+5JU79zj+yAmGkHSvQP2GkHSsQRuo/QRhpxwqEwT+q33NLnPrtP/s9t8Sp3+M/tWMFwkg75j/SjhUII+3YP+1YgTDSjsU/RtqxAmGk7T+yAmGkHSugP+1YgTDSjoU/fG6JU7/n1j/i1O+5JU7tP3/PLXHq99w/KK+hvIby2j9sKK+hvIbiP5qZmZmZmdk/eQ3lNZTX0D+c+j23xKnfP90Sp37PLeE/pB0rEEba4T8zMzMzMzPjP4y0YwXCSOs/Jk79nlvi1D98bolTv+fGPwuEkXasQOg/RtqxAmGkvT9x6vfcEqfuP+1YgTDSjpU//Z5b4tTv6T9eQ3kN5TXkP88tcer33LI/p37PLXHq5z9/zy1x6vfsP0N5DeU1lOc/CCPtWIEw4j/PLXHq99ziP0N5DeU1lNc/iVO/55Y45T98bolTv+fmPyivobyG8ro/GGnHCoSR5j8or6G8hvKqP+1YgTDSjtU/sgJhpB0rsD9G2rECYaTdPyivobyG8so/RtqxAmGkzT9Uv+eWOPXrP/C5JU79nus/lzj1e26J4z/wuSVO/Z7bP88tcer33MI/DeU1lNdQ3j/Fqd9zS5zqP7fEqd9zS8w/eQ3lNZTX4D9uiVO/55boPw3lNZTXUO4/7ViBMNKOtT859XtuiVPvPwuEkXasQMg/t8Sp33NL7D9eQ3kN5TXUP88tcer33NI/KK+hvIby6j/tWIEw0o6lP7VjBcJIO9Y/4HNLnPo95z/V77klTv3uPzaU11BeQ+k/QRhpxwqE0T9eQ3kN5TXEPxvKayivoew/QRhpxwqE4T+c+j23xKnvPw==\",\"dtype\":\"float64\",\"shape\":[95]},\"__dummy_cat\":[\" \",\" \",\" \",\" \",\" \",\" \",\" \",\" \",\" \",\" \",\" \",\" \",\" \",\" \",\" \",\" \",\" \",\" \",\" \",\" \",\" \",\" \",\" \",\" \",\" \",\" \",\" \",\" \",\" \",\" \",\" \",\" \",\" \",\" \",\" \",\" \",\" \",\" \",\" \",\" \",\" \",\" \",\" \",\" \",\" \",\" \",\" \",\" \",\" \",\" \",\" \",\" \",\" \",\" \",\" \",\" \",\" \",\" \",\" \",\" \",\" \",\" \",\" \",\" \",\" \",\" \",\" \",\" \",\" \",\" \",\" \",\" \",\" \",\" \",\" \",\" \",\" \",\" \",\" \",\" \",\" \",\" \",\" \",\" \",\" \",\" \",\" \",\" \",\" \",\" \",\" \",\" \",\" \",\" \",\" \"],\"__label\":[\" \",\" \",\" \",\" \",\" \",\" \",\" \",\" \",\" \",\" \",\" \",\" \",\" \",\" \",\" \",\" \",\" \",\" \",\" \",\" \",\" \",\" \",\" \",\" \",\" \",\" \",\" \",\" \",\" \",\" \",\" \",\" \",\" \",\" \",\" \",\" \",\" \",\" \",\" \",\" \",\" \",\" \",\" \",\" \",\" \",\" \",\" \",\" \",\" \",\" \",\" \",\" \",\" \",\" \",\" \",\" \",\" \",\" \",\" \",\" \",\" \",\" \",\" \",\" \",\" \",\" \",\" \",\" \",\" \",\" \",\" \",\" \",\" \",\" \",\" \",\" \",\" \",\" \",\" \",\" \",\" \",\" \",\" \",\" \",\" \",\" \",\" \",\" \",\" \",\" \",\" \",\" \",\" \",\" \",\" \"],\"index\":[211,212,213,214,215,216,217,218,219,220,221,222,223,224,225,226,227,228,229,230,231,232,233,234,235,236,237,238,239,240,241,242,243,244,245,246,247,248,249,250,251,252,253,254,255,256,257,258,259,260,261,262,263,264,265,266,267,268,269,270,271,272,273,274,275,276,277,278,279,280,281,282,283,284,285,286,287,288,289,290,291,292,293,294,295,296,297,298,299,300,301,302,303,304,305],\"labeled\":[false,false,false,false,false,false,false,false,false,false,false,false,false,false,false,false,false,false,false,false,false,false,false,false,false,false,false,false,false,false,false,false,false,false,false,false,false,false,false,false,false,false,false,false,false,false,false,false,false,false,false,false,false,false,false,false,false,false,false,false,false,false,false,false,false,false,false,false,false,false,false,false,false,false,false,false,false,false,false,false,false,false,false,false,false,false,false,false,false,false,false,false,false,false,false],\"time to catastrophe (s)\":{\"__ndarray__\":\"AAAAAAAwdkAAAAAAAJB6QAAAAAAA4IBAAAAAAACQcEAAAAAAAFycQAAAAAAAAGRAAAAAAAAgd0AAAAAAAMB8QAAAAAAAwGdAAAAAAABAYEAAAAAAAMB8QAAAAAAAgGFAAAAAAABwckAAAAAAANB7QAAAAAAAQGpAAAAAAACAdkAAAAAAAPiBQAAAAAAAAHRAAAAAAACAZkAAAAAAAIBmQAAAAAAAOINAAAAAAAAgYkAAAAAAADCLQAAAAAAAQHpAAAAAAADAfEAAAAAAAJBwQAAAAAAAwGJAAAAAAAAQiEAAAAAAAMBSQAAAAAAAAERAAAAAAACgbkAAAAAAAOiHQAAAAAAAoHRAAAAAAAAQc0AAAAAAAFB5QAAAAAAAgHFAAAAAAACAZkAAAAAAADB2QAAAAAAAwHdAAAAAAACweEAAAAAAAKB5QAAAAAAA8IRAAAAAAABgbUAAAAAAAGBjQAAAAAAAaIBAAAAAAADgYEAAAAAAAFiRQAAAAAAAAE5AAAAAAADAgkAAAAAAAEB6QAAAAAAAQF9AAAAAAADgf0AAAAAAAHCHQAAAAAAAkH9AAAAAAAAAeUAAAAAAAFB5QAAAAAAAQG9AAAAAAADQe0AAAAAAAPB+QAAAAAAAQGBAAAAAAACgfkAAAAAAAEBVQAAAAAAAYG1AAAAAAABAVUAAAAAAAPB0QAAAAAAAAGRAAAAAAABAZUAAAAAAAOCFQAAAAAAAuIVAAAAAAADweUAAAAAAABBzQAAAAAAAIGJAAAAAAADgdUAAAAAAAACEQAAAAAAAoGRAAAAAAAAgd0AAAAAAAGiAQAAAAAAAsI1AAAAAAABAX0AAAAAAAJyTQAAAAAAAYGNAAAAAAAD4hkAAAAAAAOBqQAAAAAAAYGhAAAAAAACghEAAAAAAAABUQAAAAAAAYG1AAAAAAABAf0AAAAAAAOSRQAAAAAAA4IBAAAAAAACAZkAAAAAAACBiQAAAAAAASIdAAAAAAABgeEAAAAAAAAiWQA==\",\"dtype\":\"float64\",\"shape\":[95]}},\"selected\":{\"id\":\"4379\",\"type\":\"Selection\"},\"selection_policy\":{\"id\":\"4378\",\"type\":\"UnionRenderers\"}},\"id\":\"4201\",\"type\":\"ColumnDataSource\"},{\"attributes\":{\"callback\":null},\"id\":\"4155\",\"type\":\"DataRange1d\"},{\"attributes\":{\"source\":{\"id\":\"4201\",\"type\":\"ColumnDataSource\"}},\"id\":\"4206\",\"type\":\"CDSView\"},{\"attributes\":{},\"id\":\"4169\",\"type\":\"BasicTicker\"},{\"attributes\":{},\"id\":\"4161\",\"type\":\"LinearScale\"},{\"attributes\":{\"data_source\":{\"id\":\"4186\",\"type\":\"ColumnDataSource\"},\"glyph\":{\"id\":\"4188\",\"type\":\"Circle\"},\"hover_glyph\":null,\"muted_glyph\":null,\"nonselection_glyph\":{\"id\":\"4189\",\"type\":\"Circle\"},\"selection_glyph\":null,\"view\":{\"id\":\"4191\",\"type\":\"CDSView\"}},\"id\":\"4190\",\"type\":\"GlyphRenderer\"},{\"attributes\":{\"overlay\":{\"id\":\"4198\",\"type\":\"BoxAnnotation\"}},\"id\":\"4175\",\"type\":\"BoxZoomTool\"},{\"attributes\":{},\"id\":\"4196\",\"type\":\"BasicTickFormatter\"},{\"attributes\":{},\"id\":\"4176\",\"type\":\"SaveTool\"},{\"attributes\":{\"fill_alpha\":{\"value\":0.1},\"fill_color\":{\"value\":\"#1f77b4\"},\"line_alpha\":{\"value\":0.1},\"line_color\":{\"value\":\"#1f77b4\"},\"x\":{\"field\":\"time to catastrophe (s)\"},\"y\":{\"field\":\"__ECDF\"}},\"id\":\"4189\",\"type\":\"Circle\"},{\"attributes\":{},\"id\":\"4178\",\"type\":\"HelpTool\"},{\"attributes\":{},\"id\":\"4214\",\"type\":\"Selection\"},{\"attributes\":{\"ticker\":{\"id\":\"4164\",\"type\":\"BasicTicker\"}},\"id\":\"4167\",\"type\":\"Grid\"},{\"attributes\":{},\"id\":\"4177\",\"type\":\"ResetTool\"},{\"attributes\":{},\"id\":\"4378\",\"type\":\"UnionRenderers\"},{\"attributes\":{\"fill_color\":{\"value\":\"#458b00\"},\"line_color\":{\"value\":\"#458b00\"},\"x\":{\"field\":\"time to catastrophe (s)\"},\"y\":{\"field\":\"__ECDF\"}},\"id\":\"4188\",\"type\":\"Circle\"},{\"attributes\":{},\"id\":\"4174\",\"type\":\"WheelZoomTool\"},{\"attributes\":{},\"id\":\"4379\",\"type\":\"Selection\"},{\"attributes\":{\"bottom_units\":\"screen\",\"fill_alpha\":{\"value\":0.5},\"fill_color\":{\"value\":\"lightgrey\"},\"left_units\":\"screen\",\"level\":\"overlay\",\"line_alpha\":{\"value\":1.0},\"line_color\":{\"value\":\"black\"},\"line_dash\":[4,4],\"line_width\":{\"value\":2},\"render_mode\":\"css\",\"right_units\":\"screen\",\"top_units\":\"screen\"},\"id\":\"4198\",\"type\":\"BoxAnnotation\"},{\"attributes\":{\"text\":\"\"},\"id\":\"4192\",\"type\":\"Title\"},{\"attributes\":{\"dimension\":1,\"ticker\":{\"id\":\"4169\",\"type\":\"BasicTicker\"}},\"id\":\"4172\",\"type\":\"Grid\"},{\"attributes\":{},\"id\":\"4173\",\"type\":\"PanTool\"},{\"attributes\":{\"items\":[{\"id\":\"4200\",\"type\":\"LegendItem\"}],\"visible\":false},\"id\":\"4199\",\"type\":\"Legend\"},{\"attributes\":{\"label\":{\"value\":\" \"},\"renderers\":[{\"id\":\"4190\",\"type\":\"GlyphRenderer\"},{\"id\":\"4205\",\"type\":\"GlyphRenderer\"}]},\"id\":\"4200\",\"type\":\"LegendItem\"},{\"attributes\":{\"callback\":null},\"id\":\"4157\",\"type\":\"DataRange1d\"},{\"attributes\":{},\"id\":\"4164\",\"type\":\"BasicTicker\"},{\"attributes\":{\"fill_alpha\":{\"value\":0.1},\"fill_color\":{\"value\":\"#1f77b4\"},\"line_alpha\":{\"value\":0.1},\"line_color\":{\"value\":\"#1f77b4\"},\"x\":{\"field\":\"time to catastrophe (s)\"},\"y\":{\"field\":\"__ECDF\"}},\"id\":\"4204\",\"type\":\"Circle\"},{\"attributes\":{},\"id\":\"4213\",\"type\":\"UnionRenderers\"},{\"attributes\":{\"axis_label\":\"ECDF\",\"formatter\":{\"id\":\"4196\",\"type\":\"BasicTickFormatter\"},\"ticker\":{\"id\":\"4169\",\"type\":\"BasicTicker\"}},\"id\":\"4168\",\"type\":\"LinearAxis\"},{\"attributes\":{\"fill_color\":{\"value\":\"#1f77b3\"},\"line_color\":{\"value\":\"#1f77b3\"},\"x\":{\"field\":\"time to catastrophe (s)\"},\"y\":{\"field\":\"__ECDF\"}},\"id\":\"4203\",\"type\":\"Circle\"},{\"attributes\":{\"active_drag\":\"auto\",\"active_inspect\":\"auto\",\"active_multi\":null,\"active_scroll\":\"auto\",\"active_tap\":\"auto\",\"tools\":[{\"id\":\"4173\",\"type\":\"PanTool\"},{\"id\":\"4174\",\"type\":\"WheelZoomTool\"},{\"id\":\"4175\",\"type\":\"BoxZoomTool\"},{\"id\":\"4176\",\"type\":\"SaveTool\"},{\"id\":\"4177\",\"type\":\"ResetTool\"},{\"id\":\"4178\",\"type\":\"HelpTool\"}]},\"id\":\"4179\",\"type\":\"Toolbar\"}],\"root_ids\":[\"4154\"]},\"title\":\"Bokeh Application\",\"version\":\"1.4.0\"}};\n",
       "  var render_items = [{\"docid\":\"cf2e60bb-bd1c-45be-b333-9e37d32a447e\",\"roots\":{\"4154\":\"a16bc77d-3ac5-4b9c-b2ea-db8b504ed334\"}}];\n",
       "  root.Bokeh.embed.embed_items_notebook(docs_json, render_items);\n",
       "\n",
       "  }\n",
       "  if (root.Bokeh !== undefined) {\n",
       "    embed_document(root);\n",
       "  } else {\n",
       "    var attempts = 0;\n",
       "    var timer = setInterval(function(root) {\n",
       "      if (root.Bokeh !== undefined) {\n",
       "        clearInterval(timer);\n",
       "        embed_document(root);\n",
       "      } else {\n",
       "        attempts++;\n",
       "        if (attempts > 100) {\n",
       "          clearInterval(timer);\n",
       "          console.log(\"Bokeh: ERROR: Unable to run BokehJS code because BokehJS library is missing\");\n",
       "        }\n",
       "      }\n",
       "    }, 10, root)\n",
       "  }\n",
       "})(window);"
      ],
      "application/vnd.bokehjs_exec.v0+json": ""
     },
     "metadata": {
      "application/vnd.bokehjs_exec.v0+json": {
       "id": "4154"
      }
     },
     "output_type": "display_data"
    }
   ],
   "source": [
    "#Plot ECDFs of labeled and unlabeled tubulin, with labeled ECDF in \"green\"\n",
    "p = bokeh_catplot.ecdf(\n",
    "    data=df_label,\n",
    "    val='time to catastrophe (s)',\n",
    "    palette=['#458b00']\n",
    ")\n",
    "\n",
    "p = bokeh_catplot.ecdf(\n",
    "    data=df_unlabel,\n",
    "    val='time to catastrophe (s)',\n",
    "    p=p\n",
    ")\n",
    "\n",
    "bokeh.io.show(p)"
   ]
  },
  {
   "cell_type": "markdown",
   "metadata": {},
   "source": [
    "It is really challenging to say, with certainty, whether the labeling affects the time to catastrophe events without plotting confidence intervals and performing statistical analyses. Based on eye alone, I would say that the ECDFs look sufficiently similar, or within the margin of experimental error, for the labeled vs. unlabeled data.The 90th and 10th percentiles, for instance, look quite similar between the datasets, as does the median value (around 300s for both). Based on this, I think that labeling does not impact time to catastrophe."
   ]
  },
  {
   "cell_type": "markdown",
   "metadata": {},
   "source": [
    "To get a better idea of this data, we can plot another ECDF, but this time with confidence intervals added."
   ]
  },
  {
   "cell_type": "code",
   "execution_count": 46,
   "metadata": {},
   "outputs": [
    {
     "data": {
      "text/html": [
       "\n",
       "\n",
       "\n",
       "\n",
       "\n",
       "\n",
       "  <div class=\"bk-root\" id=\"1e239f45-21f7-4545-8479-675f1631b6ce\" data-root-id=\"4447\"></div>\n"
      ]
     },
     "metadata": {},
     "output_type": "display_data"
    },
    {
     "data": {
      "application/javascript": [
       "(function(root) {\n",
       "  function embed_document(root) {\n",
       "    \n",
       "  var docs_json = {\"7855c1a1-38e2-4465-a491-b1c11f677062\":{\"roots\":{\"references\":[{\"attributes\":{\"below\":[{\"id\":\"4456\",\"type\":\"LinearAxis\"}],\"center\":[{\"id\":\"4460\",\"type\":\"Grid\"},{\"id\":\"4465\",\"type\":\"Grid\"},{\"id\":\"4491\",\"type\":\"Legend\"}],\"left\":[{\"id\":\"4461\",\"type\":\"LinearAxis\"}],\"plot_height\":300,\"plot_width\":400,\"renderers\":[{\"id\":\"4482\",\"type\":\"GlyphRenderer\"},{\"id\":\"4497\",\"type\":\"GlyphRenderer\"},{\"id\":\"4511\",\"type\":\"GlyphRenderer\"},{\"id\":\"4528\",\"type\":\"GlyphRenderer\"}],\"title\":{\"id\":\"4484\",\"type\":\"Title\"},\"toolbar\":{\"id\":\"4472\",\"type\":\"Toolbar\"},\"x_range\":{\"id\":\"4448\",\"type\":\"DataRange1d\"},\"x_scale\":{\"id\":\"4452\",\"type\":\"LinearScale\"},\"y_range\":{\"id\":\"4450\",\"type\":\"DataRange1d\"},\"y_scale\":{\"id\":\"4454\",\"type\":\"LinearScale\"}},\"id\":\"4447\",\"subtype\":\"Figure\",\"type\":\"Plot\"},{\"attributes\":{\"fill_alpha\":0.1,\"fill_color\":\"#1f77b4\",\"line_alpha\":0.1,\"line_color\":\"#1f77b4\",\"x\":{\"field\":\"x\"},\"y\":{\"field\":\"y\"}},\"id\":\"4510\",\"type\":\"Patch\"},{\"attributes\":{\"data_source\":{\"id\":\"4508\",\"type\":\"ColumnDataSource\"},\"glyph\":{\"id\":\"4509\",\"type\":\"Patch\"},\"hover_glyph\":null,\"muted_glyph\":null,\"nonselection_glyph\":{\"id\":\"4510\",\"type\":\"Patch\"},\"selection_glyph\":null,\"view\":{\"id\":\"4512\",\"type\":\"CDSView\"}},\"id\":\"4511\",\"type\":\"GlyphRenderer\"},{\"attributes\":{},\"id\":\"4452\",\"type\":\"LinearScale\"},{\"attributes\":{},\"id\":\"4486\",\"type\":\"BasicTickFormatter\"},{\"attributes\":{},\"id\":\"4462\",\"type\":\"BasicTicker\"},{\"attributes\":{\"callback\":null,\"data\":{\"x\":{\"__ndarray__\":\"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\",\"dtype\":\"float64\",\"shape\":[484]},\"y\":{\"__ndarray__\":\"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\",\"dtype\":\"float64\",\"shape\":[484]}},\"selected\":{\"id\":\"4506\",\"type\":\"Selection\"},\"selection_policy\":{\"id\":\"4505\",\"type\":\"UnionRenderers\"}},\"id\":\"4479\",\"type\":\"ColumnDataSource\"},{\"attributes\":{\"axis_label\":\"time to catastrophe (s)\",\"formatter\":{\"id\":\"4486\",\"type\":\"BasicTickFormatter\"},\"ticker\":{\"id\":\"4457\",\"type\":\"BasicTicker\"}},\"id\":\"4456\",\"type\":\"LinearAxis\"},{\"attributes\":{\"dimension\":1,\"ticker\":{\"id\":\"4462\",\"type\":\"BasicTicker\"}},\"id\":\"4465\",\"type\":\"Grid\"},{\"attributes\":{\"data_source\":{\"id\":\"4479\",\"type\":\"ColumnDataSource\"},\"glyph\":{\"id\":\"4480\",\"type\":\"Patch\"},\"hover_glyph\":null,\"muted_glyph\":null,\"nonselection_glyph\":{\"id\":\"4481\",\"type\":\"Patch\"},\"selection_glyph\":null,\"view\":{\"id\":\"4483\",\"type\":\"CDSView\"}},\"id\":\"4482\",\"type\":\"GlyphRenderer\"},{\"attributes\":{\"source\":{\"id\":\"4493\",\"type\":\"ColumnDataSource\"}},\"id\":\"4498\",\"type\":\"CDSView\"},{\"attributes\":{\"active_drag\":\"auto\",\"active_inspect\":\"auto\",\"active_multi\":null,\"active_scroll\":\"auto\",\"active_tap\":\"auto\",\"tools\":[{\"id\":\"4466\",\"type\":\"PanTool\"},{\"id\":\"4467\",\"type\":\"WheelZoomTool\"},{\"id\":\"4468\",\"type\":\"BoxZoomTool\"},{\"id\":\"4469\",\"type\":\"SaveTool\"},{\"id\":\"4470\",\"type\":\"ResetTool\"},{\"id\":\"4471\",\"type\":\"HelpTool\"}]},\"id\":\"4472\",\"type\":\"Toolbar\"},{\"attributes\":{},\"id\":\"4541\",\"type\":\"Selection\"},{\"attributes\":{},\"id\":\"4454\",\"type\":\"LinearScale\"},{\"attributes\":{},\"id\":\"4466\",\"type\":\"PanTool\"},{\"attributes\":{},\"id\":\"4470\",\"type\":\"ResetTool\"},{\"attributes\":{\"bottom_units\":\"screen\",\"fill_alpha\":{\"value\":0.5},\"fill_color\":{\"value\":\"lightgrey\"},\"left_units\":\"screen\",\"level\":\"overlay\",\"line_alpha\":{\"value\":1.0},\"line_color\":{\"value\":\"black\"},\"line_dash\":[4,4],\"line_width\":{\"value\":2},\"render_mode\":\"css\",\"right_units\":\"screen\",\"top_units\":\"screen\"},\"id\":\"4490\",\"type\":\"BoxAnnotation\"},{\"attributes\":{\"callback\":null},\"id\":\"4448\",\"type\":\"DataRange1d\"},{\"attributes\":{\"source\":{\"id\":\"4524\",\"type\":\"ColumnDataSource\"}},\"id\":\"4529\",\"type\":\"CDSView\"},{\"attributes\":{},\"id\":\"4471\",\"type\":\"HelpTool\"},{\"attributes\":{\"fill_alpha\":0.1,\"fill_color\":\"#1f77b4\",\"line_alpha\":0.1,\"line_color\":\"#1f77b4\",\"x\":{\"field\":\"x\"},\"y\":{\"field\":\"y\"}},\"id\":\"4481\",\"type\":\"Patch\"},{\"attributes\":{},\"id\":\"4521\",\"type\":\"UnionRenderers\"},{\"attributes\":{},\"id\":\"4540\",\"type\":\"UnionRenderers\"},{\"attributes\":{\"callback\":null,\"data\":{\"x\":{\"__ndarray__\":\"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\",\"dtype\":\"float64\",\"shape\":[288]},\"y\":{\"__ndarray__\":\"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\",\"dtype\":\"float64\",\"shape\":[288]}},\"selected\":{\"id\":\"4541\",\"type\":\"Selection\"},\"selection_policy\":{\"id\":\"4540\",\"type\":\"UnionRenderers\"}},\"id\":\"4508\",\"type\":\"ColumnDataSource\"},{\"attributes\":{\"items\":[{\"id\":\"4492\",\"type\":\"LegendItem\"}],\"visible\":false},\"id\":\"4491\",\"type\":\"Legend\"},{\"attributes\":{\"fill_alpha\":{\"value\":0.1},\"fill_color\":{\"value\":\"#1f77b4\"},\"line_alpha\":{\"value\":0.1},\"line_color\":{\"value\":\"#1f77b4\"},\"x\":{\"field\":\"time to catastrophe (s)\"},\"y\":{\"field\":\"__ECDF\"}},\"id\":\"4496\",\"type\":\"Circle\"},{\"attributes\":{\"label\":{\"value\":\" \"},\"renderers\":[{\"id\":\"4482\",\"type\":\"GlyphRenderer\"},{\"id\":\"4497\",\"type\":\"GlyphRenderer\"},{\"id\":\"4511\",\"type\":\"GlyphRenderer\"},{\"id\":\"4528\",\"type\":\"GlyphRenderer\"}]},\"id\":\"4492\",\"type\":\"LegendItem\"},{\"attributes\":{\"source\":{\"id\":\"4479\",\"type\":\"ColumnDataSource\"}},\"id\":\"4483\",\"type\":\"CDSView\"},{\"attributes\":{},\"id\":\"4720\",\"type\":\"UnionRenderers\"},{\"attributes\":{\"axis_label\":\"ECDF\",\"formatter\":{\"id\":\"4488\",\"type\":\"BasicTickFormatter\"},\"ticker\":{\"id\":\"4462\",\"type\":\"BasicTicker\"}},\"id\":\"4461\",\"type\":\"LinearAxis\"},{\"attributes\":{\"fill_alpha\":{\"value\":0.1},\"fill_color\":{\"value\":\"#1f77b4\"},\"line_alpha\":{\"value\":0.1},\"line_color\":{\"value\":\"#1f77b4\"},\"x\":{\"field\":\"time to catastrophe (s)\"},\"y\":{\"field\":\"__ECDF\"}},\"id\":\"4527\",\"type\":\"Circle\"},{\"attributes\":{\"source\":{\"id\":\"4508\",\"type\":\"ColumnDataSource\"}},\"id\":\"4512\",\"type\":\"CDSView\"},{\"attributes\":{\"fill_alpha\":0.5,\"fill_color\":\"#458b00\",\"line_alpha\":0,\"line_color\":\"#1f77b4\",\"x\":{\"field\":\"x\"},\"y\":{\"field\":\"y\"}},\"id\":\"4480\",\"type\":\"Patch\"},{\"attributes\":{\"fill_alpha\":0.5,\"fill_color\":\"#1f77b3\",\"line_alpha\":0,\"line_color\":\"#1f77b4\",\"x\":{\"field\":\"x\"},\"y\":{\"field\":\"y\"}},\"id\":\"4509\",\"type\":\"Patch\"},{\"attributes\":{},\"id\":\"4467\",\"type\":\"WheelZoomTool\"},{\"attributes\":{\"fill_color\":{\"value\":\"#458b00\"},\"line_color\":{\"value\":\"#458b00\"},\"x\":{\"field\":\"time to catastrophe (s)\"},\"y\":{\"field\":\"__ECDF\"}},\"id\":\"4495\",\"type\":\"Circle\"},{\"attributes\":{},\"id\":\"4488\",\"type\":\"BasicTickFormatter\"},{\"attributes\":{\"text\":\"\"},\"id\":\"4484\",\"type\":\"Title\"},{\"attributes\":{},\"id\":\"4457\",\"type\":\"BasicTicker\"},{\"attributes\":{\"fill_color\":{\"value\":\"#1f77b3\"},\"line_color\":{\"value\":\"#1f77b3\"},\"x\":{\"field\":\"time to catastrophe (s)\"},\"y\":{\"field\":\"__ECDF\"}},\"id\":\"4526\",\"type\":\"Circle\"},{\"attributes\":{},\"id\":\"4505\",\"type\":\"UnionRenderers\"},{\"attributes\":{\"data_source\":{\"id\":\"4524\",\"type\":\"ColumnDataSource\"},\"glyph\":{\"id\":\"4526\",\"type\":\"Circle\"},\"hover_glyph\":null,\"muted_glyph\":null,\"nonselection_glyph\":{\"id\":\"4527\",\"type\":\"Circle\"},\"selection_glyph\":null,\"view\":{\"id\":\"4529\",\"type\":\"CDSView\"}},\"id\":\"4528\",\"type\":\"GlyphRenderer\"},{\"attributes\":{\"callback\":null,\"data\":{\"Unnamed: 0\":[0,1,2,3,4,5,6,7,8,9,10,11,12,13,14,15,16,17,18,19,20,21,22,23,24,25,26,27,28,29,30,31,32,33,34,35,36,37,38,39,40,41,42,43,44,45,46,47,48,49,50,51,52,53,54,55,56,57,58,59,60,61,62,63,64,65,66,67,68,69,70,71,72,73,74,75,76,77,78,79,80,81,82,83,84,85,86,87,88,89,90,91,92,93,94,95,96,97,98,99,100,101,102,103,104,105,106,107,108,109,110,111,112,113,114,115,116,117,118,119,120,121,122,123,124,125,126,127,128,129,130,131,132,133,134,135,136,137,138,139,140,141,142,143,144,145,146,147,148,149,150,151,152,153,154,155,156,157,158,159,160,161,162,163,164,165,166,167,168,169,170,171,172,173,174,175,176,177,178,179,180,181,182,183,184,185,186,187,188,189,190,191,192,193,194,195,196,197,198,199,200,201,202,203,204,205,206,207,208,209,210],\"__ECDF\":{\"__ndarray__\":\"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\",\"dtype\":\"float64\",\"shape\":[211]},\"__dummy_cat\":[\" \",\" \",\" \",\" \",\" \",\" \",\" \",\" \",\" \",\" \",\" \",\" \",\" \",\" \",\" \",\" \",\" \",\" \",\" \",\" \",\" \",\" \",\" \",\" \",\" \",\" \",\" \",\" \",\" \",\" \",\" \",\" \",\" \",\" \",\" \",\" \",\" \",\" \",\" \",\" \",\" \",\" \",\" \",\" \",\" \",\" \",\" \",\" \",\" \",\" \",\" \",\" \",\" \",\" \",\" \",\" \",\" \",\" \",\" \",\" \",\" \",\" \",\" \",\" \",\" \",\" \",\" \",\" \",\" \",\" \",\" \",\" \",\" \",\" \",\" \",\" \",\" \",\" \",\" \",\" \",\" \",\" \",\" \",\" \",\" \",\" \",\" \",\" \",\" \",\" \",\" \",\" \",\" \",\" \",\" \",\" \",\" \",\" \",\" \",\" \",\" \",\" \",\" \",\" \",\" \",\" \",\" \",\" \",\" \",\" \",\" \",\" \",\" \",\" \",\" \",\" \",\" \",\" \",\" \",\" \",\" \",\" \",\" \",\" \",\" \",\" \",\" \",\" \",\" \",\" \",\" \",\" \",\" \",\" \",\" \",\" \",\" \",\" \",\" \",\" \",\" \",\" \",\" \",\" \",\" \",\" \",\" \",\" \",\" \",\" \",\" \",\" \",\" \",\" \",\" \",\" \",\" \",\" \",\" \",\" \",\" \",\" \",\" \",\" \",\" \",\" \",\" \",\" \",\" \",\" \",\" \",\" \",\" \",\" \",\" \",\" \",\" \",\" \",\" \",\" \",\" \",\" \",\" \",\" \",\" \",\" \",\" \",\" \",\" \",\" \",\" \",\" \",\" \",\" \",\" \",\" \",\" \",\" \",\" \",\" \",\" \",\" \",\" \",\" \",\" \",\" \",\" \",\" \",\" \",\" \",\" \"],\"__label\":[\" \",\" \",\" \",\" \",\" \",\" \",\" \",\" \",\" \",\" \",\" \",\" \",\" \",\" \",\" \",\" \",\" \",\" \",\" \",\" \",\" \",\" \",\" \",\" \",\" \",\" \",\" \",\" \",\" \",\" \",\" \",\" \",\" \",\" \",\" \",\" \",\" \",\" \",\" \",\" \",\" \",\" \",\" \",\" \",\" \",\" \",\" \",\" \",\" \",\" \",\" \",\" \",\" \",\" \",\" \",\" \",\" \",\" \",\" \",\" \",\" \",\" \",\" \",\" \",\" \",\" \",\" \",\" \",\" \",\" \",\" \",\" \",\" \",\" \",\" \",\" \",\" \",\" \",\" \",\" \",\" \",\" \",\" \",\" \",\" \",\" \",\" \",\" \",\" \",\" \",\" \",\" \",\" \",\" \",\" \",\" \",\" \",\" \",\" \",\" \",\" \",\" \",\" \",\" \",\" \",\" \",\" \",\" \",\" \",\" \",\" \",\" \",\" \",\" \",\" \",\" \",\" \",\" \",\" \",\" \",\" \",\" \",\" \",\" \",\" \",\" \",\" \",\" \",\" \",\" \",\" \",\" \",\" \",\" \",\" \",\" \",\" \",\" \",\" \",\" \",\" \",\" \",\" \",\" \",\" \",\" \",\" \",\" \",\" \",\" \",\" \",\" \",\" \",\" \",\" \",\" \",\" \",\" \",\" \",\" \",\" \",\" \",\" \",\" \",\" \",\" \",\" \",\" \",\" \",\" \",\" \",\" \",\" \",\" \",\" \",\" \",\" \",\" \",\" \",\" \",\" \",\" \",\" \",\" \",\" \",\" \",\" \",\" \",\" \",\" \",\" \",\" \",\" \",\" \",\" \",\" \",\" \",\" \",\" \",\" \",\" \",\" \",\" \",\" \",\" \",\" \",\" \",\" \",\" \",\" \",\" \"],\"index\":[0,1,2,3,4,5,6,7,8,9,10,11,12,13,14,15,16,17,18,19,20,21,22,23,24,25,26,27,28,29,30,31,32,33,34,35,36,37,38,39,40,41,42,43,44,45,46,47,48,49,50,51,52,53,54,55,56,57,58,59,60,61,62,63,64,65,66,67,68,69,70,71,72,73,74,75,76,77,78,79,80,81,82,83,84,85,86,87,88,89,90,91,92,93,94,95,96,97,98,99,100,101,102,103,104,105,106,107,108,109,110,111,112,113,114,115,116,117,118,119,120,121,122,123,124,125,126,127,128,129,130,131,132,133,134,135,136,137,138,139,140,141,142,143,144,145,146,147,148,149,150,151,152,153,154,155,156,157,158,159,160,161,162,163,164,165,166,167,168,169,170,171,172,173,174,175,176,177,178,179,180,181,182,183,184,185,186,187,188,189,190,191,192,193,194,195,196,197,198,199,200,201,202,203,204,205,206,207,208,209,210],\"labeled\":[true,true,true,true,true,true,true,true,true,true,true,true,true,true,true,true,true,true,true,true,true,true,true,true,true,true,true,true,true,true,true,true,true,true,true,true,true,true,true,true,true,true,true,true,true,true,true,true,true,true,true,true,true,true,true,true,true,true,true,true,true,true,true,true,true,true,true,true,true,true,true,true,true,true,true,true,true,true,true,true,true,true,true,true,true,true,true,true,true,true,true,true,true,true,true,true,true,true,true,true,true,true,true,true,true,true,true,true,true,true,true,true,true,true,true,true,true,true,true,true,true,true,true,true,true,true,true,true,true,true,true,true,true,true,true,true,true,true,true,true,true,true,true,true,true,true,true,true,true,true,true,true,true,true,true,true,true,true,true,true,true,true,true,true,true,true,true,true,true,true,true,true,true,true,true,true,true,true,true,true,true,true,true,true,true,true,true,true,true,true,true,true,true,true,true,true,true,true,true,true,true,true,true,true,true,true,true,true,true,true,true],\"time to catastrophe (s)\":{\"__ndarray__\":\"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\",\"dtype\":\"float64\",\"shape\":[211]}},\"selected\":{\"id\":\"4522\",\"type\":\"Selection\"},\"selection_policy\":{\"id\":\"4521\",\"type\":\"UnionRenderers\"}},\"id\":\"4493\",\"type\":\"ColumnDataSource\"},{\"attributes\":{\"callback\":null,\"data\":{\"Unnamed: 0\":[211,212,213,214,215,216,217,218,219,220,221,222,223,224,225,226,227,228,229,230,231,232,233,234,235,236,237,238,239,240,241,242,243,244,245,246,247,248,249,250,251,252,253,254,255,256,257,258,259,260,261,262,263,264,265,266,267,268,269,270,271,272,273,274,275,276,277,278,279,280,281,282,283,284,285,286,287,288,289,290,291,292,293,294,295,296,297,298,299,300,301,302,303,304,305],\"__ECDF\":{\"__ndarray__\":\"1e+5JU793j/CSDtWIIzkP9KOFQgj7eg/C4SRdqxA2D8AAAAAAADwP5qZmZmZmck/Fggj7ViB4D/tWIEw0o7lPwgj7ViBMNI/C4SRdqxAuD9RXkN5DeXlP7ICYaQdK8A/YaQdKxBG2j8mTv2eW+LkP5c49XtuidM/sgJhpB0r4D+amZmZmZnpP7fEqd9zS9w/1e+5JU79zj+yAmGkHSvQP2GkHSsQRuo/QRhpxwqEwT+q33NLnPrtP/s9t8Sp3+M/tWMFwkg75j/SjhUII+3YP+1YgTDSjsU/RtqxAmGk7T+yAmGkHSugP+1YgTDSjoU/fG6JU7/n1j/i1O+5JU7tP3/PLXHq99w/KK+hvIby2j9sKK+hvIbiP5qZmZmZmdk/eQ3lNZTX0D+c+j23xKnfP90Sp37PLeE/pB0rEEba4T8zMzMzMzPjP4y0YwXCSOs/Jk79nlvi1D98bolTv+fGPwuEkXasQOg/RtqxAmGkvT9x6vfcEqfuP+1YgTDSjpU//Z5b4tTv6T9eQ3kN5TXkP88tcer33LI/p37PLXHq5z9/zy1x6vfsP0N5DeU1lOc/CCPtWIEw4j/PLXHq99ziP0N5DeU1lNc/iVO/55Y45T98bolTv+fmPyivobyG8ro/GGnHCoSR5j8or6G8hvKqP+1YgTDSjtU/sgJhpB0rsD9G2rECYaTdPyivobyG8so/RtqxAmGkzT9Uv+eWOPXrP/C5JU79nus/lzj1e26J4z/wuSVO/Z7bP88tcer33MI/DeU1lNdQ3j/Fqd9zS5zqP7fEqd9zS8w/eQ3lNZTX4D9uiVO/55boPw3lNZTXUO4/7ViBMNKOtT859XtuiVPvPwuEkXasQMg/t8Sp33NL7D9eQ3kN5TXUP88tcer33NI/KK+hvIby6j/tWIEw0o6lP7VjBcJIO9Y/4HNLnPo95z/V77klTv3uPzaU11BeQ+k/QRhpxwqE0T9eQ3kN5TXEPxvKayivoew/QRhpxwqE4T+c+j23xKnvPw==\",\"dtype\":\"float64\",\"shape\":[95]},\"__dummy_cat\":[\" \",\" \",\" \",\" \",\" \",\" \",\" \",\" \",\" \",\" \",\" \",\" \",\" \",\" \",\" \",\" \",\" \",\" \",\" \",\" \",\" \",\" \",\" \",\" \",\" \",\" \",\" \",\" \",\" \",\" \",\" \",\" \",\" \",\" \",\" \",\" \",\" \",\" \",\" \",\" \",\" \",\" \",\" \",\" \",\" \",\" \",\" \",\" \",\" \",\" \",\" \",\" \",\" \",\" \",\" \",\" \",\" \",\" \",\" \",\" \",\" \",\" \",\" \",\" \",\" \",\" \",\" \",\" \",\" \",\" \",\" \",\" \",\" \",\" \",\" \",\" \",\" \",\" \",\" \",\" \",\" \",\" \",\" \",\" \",\" \",\" \",\" \",\" \",\" \",\" \",\" \",\" \",\" \",\" \",\" \"],\"__label\":[\" \",\" \",\" \",\" \",\" \",\" \",\" \",\" \",\" \",\" \",\" \",\" \",\" \",\" \",\" \",\" \",\" \",\" \",\" \",\" \",\" \",\" \",\" \",\" \",\" \",\" \",\" \",\" \",\" \",\" \",\" \",\" \",\" \",\" \",\" \",\" \",\" \",\" \",\" \",\" \",\" \",\" \",\" \",\" \",\" \",\" \",\" \",\" \",\" \",\" \",\" \",\" \",\" \",\" \",\" \",\" \",\" \",\" \",\" \",\" \",\" \",\" \",\" \",\" \",\" \",\" \",\" \",\" \",\" \",\" \",\" \",\" \",\" \",\" \",\" \",\" \",\" \",\" \",\" \",\" \",\" \",\" \",\" \",\" \",\" \",\" \",\" \",\" \",\" \",\" \",\" \",\" \",\" \",\" \",\" \"],\"index\":[211,212,213,214,215,216,217,218,219,220,221,222,223,224,225,226,227,228,229,230,231,232,233,234,235,236,237,238,239,240,241,242,243,244,245,246,247,248,249,250,251,252,253,254,255,256,257,258,259,260,261,262,263,264,265,266,267,268,269,270,271,272,273,274,275,276,277,278,279,280,281,282,283,284,285,286,287,288,289,290,291,292,293,294,295,296,297,298,299,300,301,302,303,304,305],\"labeled\":[false,false,false,false,false,false,false,false,false,false,false,false,false,false,false,false,false,false,false,false,false,false,false,false,false,false,false,false,false,false,false,false,false,false,false,false,false,false,false,false,false,false,false,false,false,false,false,false,false,false,false,false,false,false,false,false,false,false,false,false,false,false,false,false,false,false,false,false,false,false,false,false,false,false,false,false,false,false,false,false,false,false,false,false,false,false,false,false,false,false,false,false,false,false,false],\"time to catastrophe (s)\":{\"__ndarray__\":\"AAAAAAAwdkAAAAAAAJB6QAAAAAAA4IBAAAAAAACQcEAAAAAAAFycQAAAAAAAAGRAAAAAAAAgd0AAAAAAAMB8QAAAAAAAwGdAAAAAAABAYEAAAAAAAMB8QAAAAAAAgGFAAAAAAABwckAAAAAAANB7QAAAAAAAQGpAAAAAAACAdkAAAAAAAPiBQAAAAAAAAHRAAAAAAACAZkAAAAAAAIBmQAAAAAAAOINAAAAAAAAgYkAAAAAAADCLQAAAAAAAQHpAAAAAAADAfEAAAAAAAJBwQAAAAAAAwGJAAAAAAAAQiEAAAAAAAMBSQAAAAAAAAERAAAAAAACgbkAAAAAAAOiHQAAAAAAAoHRAAAAAAAAQc0AAAAAAAFB5QAAAAAAAgHFAAAAAAACAZkAAAAAAADB2QAAAAAAAwHdAAAAAAACweEAAAAAAAKB5QAAAAAAA8IRAAAAAAABgbUAAAAAAAGBjQAAAAAAAaIBAAAAAAADgYEAAAAAAAFiRQAAAAAAAAE5AAAAAAADAgkAAAAAAAEB6QAAAAAAAQF9AAAAAAADgf0AAAAAAAHCHQAAAAAAAkH9AAAAAAAAAeUAAAAAAAFB5QAAAAAAAQG9AAAAAAADQe0AAAAAAAPB+QAAAAAAAQGBAAAAAAACgfkAAAAAAAEBVQAAAAAAAYG1AAAAAAABAVUAAAAAAAPB0QAAAAAAAAGRAAAAAAABAZUAAAAAAAOCFQAAAAAAAuIVAAAAAAADweUAAAAAAABBzQAAAAAAAIGJAAAAAAADgdUAAAAAAAACEQAAAAAAAoGRAAAAAAAAgd0AAAAAAAGiAQAAAAAAAsI1AAAAAAABAX0AAAAAAAJyTQAAAAAAAYGNAAAAAAAD4hkAAAAAAAOBqQAAAAAAAYGhAAAAAAACghEAAAAAAAABUQAAAAAAAYG1AAAAAAABAf0AAAAAAAOSRQAAAAAAA4IBAAAAAAACAZkAAAAAAACBiQAAAAAAASIdAAAAAAABgeEAAAAAAAAiWQA==\",\"dtype\":\"float64\",\"shape\":[95]}},\"selected\":{\"id\":\"4721\",\"type\":\"Selection\"},\"selection_policy\":{\"id\":\"4720\",\"type\":\"UnionRenderers\"}},\"id\":\"4524\",\"type\":\"ColumnDataSource\"},{\"attributes\":{\"overlay\":{\"id\":\"4490\",\"type\":\"BoxAnnotation\"}},\"id\":\"4468\",\"type\":\"BoxZoomTool\"},{\"attributes\":{\"data_source\":{\"id\":\"4493\",\"type\":\"ColumnDataSource\"},\"glyph\":{\"id\":\"4495\",\"type\":\"Circle\"},\"hover_glyph\":null,\"muted_glyph\":null,\"nonselection_glyph\":{\"id\":\"4496\",\"type\":\"Circle\"},\"selection_glyph\":null,\"view\":{\"id\":\"4498\",\"type\":\"CDSView\"}},\"id\":\"4497\",\"type\":\"GlyphRenderer\"},{\"attributes\":{\"callback\":null},\"id\":\"4450\",\"type\":\"DataRange1d\"},{\"attributes\":{},\"id\":\"4469\",\"type\":\"SaveTool\"},{\"attributes\":{},\"id\":\"4522\",\"type\":\"Selection\"},{\"attributes\":{},\"id\":\"4506\",\"type\":\"Selection\"},{\"attributes\":{},\"id\":\"4721\",\"type\":\"Selection\"},{\"attributes\":{\"ticker\":{\"id\":\"4457\",\"type\":\"BasicTicker\"}},\"id\":\"4460\",\"type\":\"Grid\"}],\"root_ids\":[\"4447\"]},\"title\":\"Bokeh Application\",\"version\":\"1.4.0\"}};\n",
       "  var render_items = [{\"docid\":\"7855c1a1-38e2-4465-a491-b1c11f677062\",\"roots\":{\"4447\":\"1e239f45-21f7-4545-8479-675f1631b6ce\"}}];\n",
       "  root.Bokeh.embed.embed_items_notebook(docs_json, render_items);\n",
       "\n",
       "  }\n",
       "  if (root.Bokeh !== undefined) {\n",
       "    embed_document(root);\n",
       "  } else {\n",
       "    var attempts = 0;\n",
       "    var timer = setInterval(function(root) {\n",
       "      if (root.Bokeh !== undefined) {\n",
       "        clearInterval(timer);\n",
       "        embed_document(root);\n",
       "      } else {\n",
       "        attempts++;\n",
       "        if (attempts > 100) {\n",
       "          clearInterval(timer);\n",
       "          console.log(\"Bokeh: ERROR: Unable to run BokehJS code because BokehJS library is missing\");\n",
       "        }\n",
       "      }\n",
       "    }, 10, root)\n",
       "  }\n",
       "})(window);"
      ],
      "application/vnd.bokehjs_exec.v0+json": ""
     },
     "metadata": {
      "application/vnd.bokehjs_exec.v0+json": {
       "id": "4447"
      }
     },
     "output_type": "display_data"
    }
   ],
   "source": [
    "#Plot ECDFs of labeled and unlabeled tubulin, with labeled ECDF in \"green\", plus add confidence intervals\n",
    "p = bokeh_catplot.ecdf(\n",
    "    data=df_label,\n",
    "    val='time to catastrophe (s)',\n",
    "    palette=['#458b00'],\n",
    "    conf_int=True\n",
    ")\n",
    "\n",
    "p = bokeh_catplot.ecdf(\n",
    "    data=df_unlabel,\n",
    "    val='time to catastrophe (s)',\n",
    "    conf_int=True,\n",
    "    p=p\n",
    ")\n",
    "\n",
    "bokeh.io.show(p)"
   ]
  },
  {
   "cell_type": "markdown",
   "metadata": {},
   "source": [
    "There is clearly _significant_ overlap between the two distributions, which strongly implies that there is no difference between labeled and unlabeled tubulin. "
   ]
  },
  {
   "cell_type": "markdown",
   "metadata": {},
   "source": [
    "However, we should perform more in-depth analysis of the labeled vs. unlabeled tubulin datasets. We will do so via \"nonparametric hacker stats\", calling upon bootstrapping methods to more rigorously assess whether there is an experimental difference between labeled and unlabeled tubulin."
   ]
  },
  {
   "cell_type": "markdown",
   "metadata": {},
   "source": [
    "## Nonparametric \"Hacker Stats\" to Assess Labeled vs. Unlabeled Tubulin"
   ]
  },
  {
   "cell_type": "markdown",
   "metadata": {},
   "source": [
    "We have already plotted the ECDFs of the catastrophe times for microtubules with labeled tubulin and for those with unlabeled tubulin, including a confidence interval. In looking at the plot, we assessed that the two datasets could, indeed, be identically distributed."
   ]
  },
  {
   "cell_type": "markdown",
   "metadata": {},
   "source": [
    "In this next part of the \"exploratory analysis\", we will compute confidence intervals for the plug-in estimate for the _mean time_ to catastrophe for each of the two conditions: labeled vs. unlabeled."
   ]
  },
  {
   "cell_type": "code",
   "execution_count": 70,
   "metadata": {},
   "outputs": [],
   "source": [
    "labeled = df.loc[df['labeled']==True, 'time to catastrophe (s)'].values\n",
    "unlabeled = df.loc[df['labeled']==False, 'time to catastrophe (s)'].values"
   ]
  },
  {
   "cell_type": "code",
   "execution_count": 71,
   "metadata": {
    "ExecuteTime": {
     "end_time": "2019-11-21T19:18:11.704649Z",
     "start_time": "2019-11-21T19:18:11.695299Z"
    }
   },
   "outputs": [],
   "source": [
    "@numba.njit\n",
    "def draw_bs_sample(data):\n",
    "    \"\"\"Draw a bootstrap sample from a 1D data set.\"\"\"\n",
    "    return np.random.choice(data, size=len(data))\n",
    "\n",
    "\n",
    "@numba.njit\n",
    "def draw_bs_reps_mean(data, size=1):\n",
    "    \"\"\"Draw boostrap replicates of the mean from 1D data set.\"\"\"\n",
    "    out = np.empty(size)\n",
    "    for i in range(size):\n",
    "        out[i] = np.mean(draw_bs_sample(data))\n",
    "    return out"
   ]
  },
  {
   "cell_type": "code",
   "execution_count": 72,
   "metadata": {},
   "outputs": [],
   "source": [
    "bs_labeled = draw_bs_reps_mean(labeled, size=100000)\n",
    "bs_unlabeled = draw_bs_reps_mean(unlabeled, size=100000)\n",
    "\n",
    "bs_conf_int_labeled = np.percentile(bs_labeled, [2.5, 97.5])\n",
    "bs_conf_int_unlabeled = np.percentile(bs_unlabeled, [2.5, 97.5])"
   ]
  },
  {
   "cell_type": "code",
   "execution_count": 73,
   "metadata": {},
   "outputs": [],
   "source": [
    "def plot_with_error_bars(means, confs, names, **kwargs):\n",
    "    \"\"\"Make a horizontal plot of means/conf ints with error bars.\"\"\"\n",
    "    frame_height = kwargs.pop(\"frame_height\", 150)\n",
    "    frame_width = kwargs.pop(\"frame_width\", 450)\n",
    "\n",
    "    p = bokeh.plotting.figure(\n",
    "        y_range=names, frame_height=frame_height, frame_width=frame_width, **kwargs\n",
    "    )\n",
    "\n",
    "    p.circle(x=means, y=names)\n",
    "    for conf, name in zip(confs, names):\n",
    "        p.line(x=conf, y=[name, name], line_width=2)\n",
    "\n",
    "    return p"
   ]
  },
  {
   "cell_type": "code",
   "execution_count": 74,
   "metadata": {},
   "outputs": [
    {
     "data": {
      "text/html": [
       "\n",
       "\n",
       "\n",
       "\n",
       "\n",
       "\n",
       "  <div class=\"bk-root\" id=\"32ad905b-5eb8-49e3-a609-5a9092e2887c\" data-root-id=\"5036\"></div>\n"
      ]
     },
     "metadata": {},
     "output_type": "display_data"
    },
    {
     "data": {
      "application/javascript": [
       "(function(root) {\n",
       "  function embed_document(root) {\n",
       "    \n",
       "  var docs_json = {\"4b8d8c72-5c36-438d-9efb-e2bccee67078\":{\"roots\":{\"references\":[{\"attributes\":{\"below\":[{\"id\":\"5045\",\"type\":\"LinearAxis\"}],\"center\":[{\"id\":\"5049\",\"type\":\"Grid\"},{\"id\":\"5053\",\"type\":\"Grid\"}],\"frame_height\":150,\"frame_width\":450,\"left\":[{\"id\":\"5050\",\"type\":\"CategoricalAxis\"}],\"renderers\":[{\"id\":\"5070\",\"type\":\"GlyphRenderer\"},{\"id\":\"5075\",\"type\":\"GlyphRenderer\"},{\"id\":\"5080\",\"type\":\"GlyphRenderer\"}],\"title\":{\"id\":\"5262\",\"type\":\"Title\"},\"toolbar\":{\"id\":\"5060\",\"type\":\"Toolbar\"},\"x_range\":{\"id\":\"5037\",\"type\":\"DataRange1d\"},\"x_scale\":{\"id\":\"5041\",\"type\":\"LinearScale\"},\"y_range\":{\"id\":\"5039\",\"type\":\"FactorRange\"},\"y_scale\":{\"id\":\"5043\",\"type\":\"CategoricalScale\"}},\"id\":\"5036\",\"subtype\":\"Figure\",\"type\":\"Plot\"},{\"attributes\":{\"data_source\":{\"id\":\"5067\",\"type\":\"ColumnDataSource\"},\"glyph\":{\"id\":\"5068\",\"type\":\"Circle\"},\"hover_glyph\":null,\"muted_glyph\":null,\"nonselection_glyph\":{\"id\":\"5069\",\"type\":\"Circle\"},\"selection_glyph\":null,\"view\":{\"id\":\"5071\",\"type\":\"CDSView\"}},\"id\":\"5070\",\"type\":\"GlyphRenderer\"},{\"attributes\":{\"data_source\":{\"id\":\"5077\",\"type\":\"ColumnDataSource\"},\"glyph\":{\"id\":\"5078\",\"type\":\"Line\"},\"hover_glyph\":null,\"muted_glyph\":null,\"nonselection_glyph\":{\"id\":\"5079\",\"type\":\"Line\"},\"selection_glyph\":null,\"view\":{\"id\":\"5081\",\"type\":\"CDSView\"}},\"id\":\"5080\",\"type\":\"GlyphRenderer\"},{\"attributes\":{\"line_alpha\":0.1,\"line_color\":\"#1f77b4\",\"line_width\":2,\"x\":{\"field\":\"x\"},\"y\":{\"field\":\"y\"}},\"id\":\"5079\",\"type\":\"Line\"},{\"attributes\":{\"bottom_units\":\"screen\",\"fill_alpha\":{\"value\":0.5},\"fill_color\":{\"value\":\"lightgrey\"},\"left_units\":\"screen\",\"level\":\"overlay\",\"line_alpha\":{\"value\":1.0},\"line_color\":{\"value\":\"black\"},\"line_dash\":[4,4],\"line_width\":{\"value\":2},\"render_mode\":\"css\",\"right_units\":\"screen\",\"top_units\":\"screen\"},\"id\":\"5274\",\"type\":\"BoxAnnotation\"},{\"attributes\":{\"fill_color\":{\"value\":\"#1f77b4\"},\"line_color\":{\"value\":\"#1f77b4\"},\"x\":{\"field\":\"x\"},\"y\":{\"field\":\"y\"}},\"id\":\"5068\",\"type\":\"Circle\"},{\"attributes\":{},\"id\":\"5269\",\"type\":\"Selection\"},{\"attributes\":{\"callback\":null},\"id\":\"5037\",\"type\":\"DataRange1d\"},{\"attributes\":{},\"id\":\"5273\",\"type\":\"Selection\"},{\"attributes\":{\"callback\":null,\"data\":{\"x\":[440.7143033175355,412.71326473684206],\"y\":[\"labeled\",\"unlabeled\"]},\"selected\":{\"id\":\"5269\",\"type\":\"Selection\"},\"selection_policy\":{\"id\":\"5268\",\"type\":\"UnionRenderers\"}},\"id\":\"5067\",\"type\":\"ColumnDataSource\"},{\"attributes\":{},\"id\":\"5041\",\"type\":\"LinearScale\"},{\"attributes\":{},\"id\":\"5054\",\"type\":\"PanTool\"},{\"attributes\":{\"source\":{\"id\":\"5067\",\"type\":\"ColumnDataSource\"}},\"id\":\"5071\",\"type\":\"CDSView\"},{\"attributes\":{\"source\":{\"id\":\"5077\",\"type\":\"ColumnDataSource\"}},\"id\":\"5081\",\"type\":\"CDSView\"},{\"attributes\":{},\"id\":\"5055\",\"type\":\"WheelZoomTool\"},{\"attributes\":{\"overlay\":{\"id\":\"5274\",\"type\":\"BoxAnnotation\"}},\"id\":\"5056\",\"type\":\"BoxZoomTool\"},{\"attributes\":{\"callback\":null,\"factors\":[\"labeled\",\"unlabeled\"]},\"id\":\"5039\",\"type\":\"FactorRange\"},{\"attributes\":{\"callback\":null,\"data\":{\"x\":{\"__ndarray__\":\"6wrN7VQeeUA4pk1AKRp+QA==\",\"dtype\":\"float64\",\"shape\":[2]},\"y\":[\"labeled\",\"labeled\"]},\"selected\":{\"id\":\"5271\",\"type\":\"Selection\"},\"selection_policy\":{\"id\":\"5270\",\"type\":\"UnionRenderers\"}},\"id\":\"5072\",\"type\":\"ColumnDataSource\"},{\"attributes\":{},\"id\":\"5057\",\"type\":\"SaveTool\"},{\"attributes\":{},\"id\":\"5264\",\"type\":\"BasicTickFormatter\"},{\"attributes\":{},\"id\":\"5059\",\"type\":\"HelpTool\"},{\"attributes\":{\"axis_label\":\"mean time to catastrophe (s)\",\"formatter\":{\"id\":\"5264\",\"type\":\"BasicTickFormatter\"},\"ticker\":{\"id\":\"5046\",\"type\":\"BasicTicker\"}},\"id\":\"5045\",\"type\":\"LinearAxis\"},{\"attributes\":{\"line_color\":\"#1f77b4\",\"line_width\":2,\"x\":{\"field\":\"x\"},\"y\":{\"field\":\"y\"}},\"id\":\"5073\",\"type\":\"Line\"},{\"attributes\":{},\"id\":\"5058\",\"type\":\"ResetTool\"},{\"attributes\":{},\"id\":\"5043\",\"type\":\"CategoricalScale\"},{\"attributes\":{},\"id\":\"5271\",\"type\":\"Selection\"},{\"attributes\":{\"ticker\":{\"id\":\"5046\",\"type\":\"BasicTicker\"}},\"id\":\"5049\",\"type\":\"Grid\"},{\"attributes\":{\"callback\":null,\"data\":{\"x\":{\"__ndarray__\":\"KK+hvIYidkDKayivocx9QA==\",\"dtype\":\"float64\",\"shape\":[2]},\"y\":[\"unlabeled\",\"unlabeled\"]},\"selected\":{\"id\":\"5273\",\"type\":\"Selection\"},\"selection_policy\":{\"id\":\"5272\",\"type\":\"UnionRenderers\"}},\"id\":\"5077\",\"type\":\"ColumnDataSource\"},{\"attributes\":{},\"id\":\"5270\",\"type\":\"UnionRenderers\"},{\"attributes\":{\"data_source\":{\"id\":\"5072\",\"type\":\"ColumnDataSource\"},\"glyph\":{\"id\":\"5073\",\"type\":\"Line\"},\"hover_glyph\":null,\"muted_glyph\":null,\"nonselection_glyph\":{\"id\":\"5074\",\"type\":\"Line\"},\"selection_glyph\":null,\"view\":{\"id\":\"5076\",\"type\":\"CDSView\"}},\"id\":\"5075\",\"type\":\"GlyphRenderer\"},{\"attributes\":{\"line_alpha\":0.1,\"line_color\":\"#1f77b4\",\"line_width\":2,\"x\":{\"field\":\"x\"},\"y\":{\"field\":\"y\"}},\"id\":\"5074\",\"type\":\"Line\"},{\"attributes\":{},\"id\":\"5268\",\"type\":\"UnionRenderers\"},{\"attributes\":{\"text\":\"\",\"text_color\":{\"value\":\"black\"},\"text_font_size\":{\"value\":\"12pt\"}},\"id\":\"5262\",\"type\":\"Title\"},{\"attributes\":{},\"id\":\"5046\",\"type\":\"BasicTicker\"},{\"attributes\":{},\"id\":\"5272\",\"type\":\"UnionRenderers\"},{\"attributes\":{\"formatter\":{\"id\":\"5266\",\"type\":\"CategoricalTickFormatter\"},\"ticker\":{\"id\":\"5051\",\"type\":\"CategoricalTicker\"}},\"id\":\"5050\",\"type\":\"CategoricalAxis\"},{\"attributes\":{},\"id\":\"5051\",\"type\":\"CategoricalTicker\"},{\"attributes\":{\"dimension\":1,\"ticker\":{\"id\":\"5051\",\"type\":\"CategoricalTicker\"}},\"id\":\"5053\",\"type\":\"Grid\"},{\"attributes\":{\"fill_alpha\":{\"value\":0.1},\"fill_color\":{\"value\":\"#1f77b4\"},\"line_alpha\":{\"value\":0.1},\"line_color\":{\"value\":\"#1f77b4\"},\"x\":{\"field\":\"x\"},\"y\":{\"field\":\"y\"}},\"id\":\"5069\",\"type\":\"Circle\"},{\"attributes\":{\"source\":{\"id\":\"5072\",\"type\":\"ColumnDataSource\"}},\"id\":\"5076\",\"type\":\"CDSView\"},{\"attributes\":{\"active_drag\":\"auto\",\"active_inspect\":\"auto\",\"active_multi\":null,\"active_scroll\":\"auto\",\"active_tap\":\"auto\",\"tools\":[{\"id\":\"5054\",\"type\":\"PanTool\"},{\"id\":\"5055\",\"type\":\"WheelZoomTool\"},{\"id\":\"5056\",\"type\":\"BoxZoomTool\"},{\"id\":\"5057\",\"type\":\"SaveTool\"},{\"id\":\"5058\",\"type\":\"ResetTool\"},{\"id\":\"5059\",\"type\":\"HelpTool\"}]},\"id\":\"5060\",\"type\":\"Toolbar\"},{\"attributes\":{\"line_color\":\"#1f77b4\",\"line_width\":2,\"x\":{\"field\":\"x\"},\"y\":{\"field\":\"y\"}},\"id\":\"5078\",\"type\":\"Line\"},{\"attributes\":{},\"id\":\"5266\",\"type\":\"CategoricalTickFormatter\"}],\"root_ids\":[\"5036\"]},\"title\":\"Bokeh Application\",\"version\":\"1.4.0\"}};\n",
       "  var render_items = [{\"docid\":\"4b8d8c72-5c36-438d-9efb-e2bccee67078\",\"roots\":{\"5036\":\"32ad905b-5eb8-49e3-a609-5a9092e2887c\"}}];\n",
       "  root.Bokeh.embed.embed_items_notebook(docs_json, render_items);\n",
       "\n",
       "  }\n",
       "  if (root.Bokeh !== undefined) {\n",
       "    embed_document(root);\n",
       "  } else {\n",
       "    var attempts = 0;\n",
       "    var timer = setInterval(function(root) {\n",
       "      if (root.Bokeh !== undefined) {\n",
       "        clearInterval(timer);\n",
       "        embed_document(root);\n",
       "      } else {\n",
       "        attempts++;\n",
       "        if (attempts > 100) {\n",
       "          clearInterval(timer);\n",
       "          console.log(\"Bokeh: ERROR: Unable to run BokehJS code because BokehJS library is missing\");\n",
       "        }\n",
       "      }\n",
       "    }, 10, root)\n",
       "  }\n",
       "})(window);"
      ],
      "application/vnd.bokehjs_exec.v0+json": ""
     },
     "metadata": {
      "application/vnd.bokehjs_exec.v0+json": {
       "id": "5036"
      }
     },
     "output_type": "display_data"
    }
   ],
   "source": [
    "bokeh.io.show(\n",
    "    plot_with_error_bars(\n",
    "        [bs_labeled.mean(), bs_unlabeled.mean()],\n",
    "        [bs_conf_int_labeled, bs_conf_int_unlabeled],\n",
    "        names=[\"labeled\", \"unlabeled\"],\n",
    "        x_axis_label=\"mean time to catastrophe (s)\",\n",
    "    )\n",
    ")"
   ]
  },
  {
   "cell_type": "markdown",
   "metadata": {},
   "source": [
    "Based on this bootstrapping analysis, it does seem that there is significant overlap between the labeled and unlabeled tubulin distributions."
   ]
  },
  {
   "cell_type": "markdown",
   "metadata": {},
   "source": [
    "We will next test the hypothesis the distribution of catastrophe times for microtubules with labeled tubulin is the same as that for unlabeled tubulin.\n"
   ]
  },
  {
   "cell_type": "markdown",
   "metadata": {},
   "source": [
    "**Answer**: Let's use a permutation NHST recipe.\n",
    "\n",
    "1. State the null hypothesis (more- or less already stated): The distributions of the labeled and unlabeled tubulin are the same. \n",
    "\n",
    "2. Define a test statistic: Difference of means squared weighted by the the product of the standard deviations. That is:\n",
    "\n",
    "$$\n",
    "\\text{D} = \\frac{ \\left( \\bar{t_1} - \\bar{t_2} \\right) ^2}{\\sigma_{t_1} \\sigma_{t_2}}\n",
    "$$\n",
    "\n",
    "We chose this statistic because it takes into account both the first and second moments of the distribution.\n",
    "\n",
    "3. Rejection region : We'll choose an alpha of $1x10^-3$. \n",
    "\n",
    "4. Simulate data acquisition: Okay ! \n",
    "\n",
    "But before we apply the bootstrap replicates of our test statistic, let's think about why is this is a good measure of the difference.\n",
    "\n",
    "We know that the first and second moments of the exponential distribution are just $1/\\beta$ and $1\\beta ^2$ respectively. We know the PDF is a monotonically decreasing function and therefore be more interested in the rightward tail of the distribution. From this assumption it is okay to assume that for example, a difference of the means would in essence be a good test statistic by itself. Moreover, because we want to **test whether the distributions are different** and not just the means, we want to include that in the test statistic we use. \n",
    "\n",
    "We acknowledge the fact that the test statistic *might* be biased, and that we may be a more formal way to characterize the difference in exponential distributions, but we'll go with this for now. "
   ]
  },
  {
   "cell_type": "code",
   "execution_count": 75,
   "metadata": {
    "ExecuteTime": {
     "end_time": "2019-11-21T19:18:13.601651Z",
     "start_time": "2019-11-21T19:18:13.590680Z"
    }
   },
   "outputs": [],
   "source": [
    "@numba.njit\n",
    "def diff_means(x, y): \n",
    "    \n",
    "    diff_means = (np.mean(x) - np.mean(y))**2 / (np.std(x) - np.std(y))\n",
    "    \n",
    "    return diff_means"
   ]
  },
  {
   "cell_type": "markdown",
   "metadata": {},
   "source": [
    "Now let's concatenate and scramble both samples. "
   ]
  },
  {
   "cell_type": "code",
   "execution_count": 76,
   "metadata": {
    "ExecuteTime": {
     "end_time": "2019-11-21T19:18:13.627725Z",
     "start_time": "2019-11-21T19:18:13.617485Z"
    }
   },
   "outputs": [],
   "source": [
    "@numba.njit\n",
    "def draw_perm_sample(x, y):\n",
    "    \"\"\"Generate a permutation sample.\"\"\"\n",
    "    concat_data = np.concatenate((x, y))\n",
    "    np.random.shuffle(concat_data)\n",
    "\n",
    "    return concat_data[:len(x)], concat_data[len(x):]"
   ]
  },
  {
   "cell_type": "code",
   "execution_count": 77,
   "metadata": {
    "ExecuteTime": {
     "end_time": "2019-11-21T19:18:13.647026Z",
     "start_time": "2019-11-21T19:18:13.634452Z"
    }
   },
   "outputs": [],
   "source": [
    "def draw_perm_reps(x, y, stat_fun, size=1):\n",
    "    \"\"\"Generate array of permuation replicates.\"\"\"\n",
    "    return np.array([stat_fun(*draw_perm_sample(x, y)) for _ in range(size)])"
   ]
  },
  {
   "cell_type": "code",
   "execution_count": 78,
   "metadata": {
    "ExecuteTime": {
     "end_time": "2019-11-21T19:18:13.665370Z",
     "start_time": "2019-11-21T19:18:13.654011Z"
    }
   },
   "outputs": [],
   "source": [
    "@numba.njit\n",
    "def draw_perm_reps_diff_mean(x, y, size=1):\n",
    "    \"\"\"Generate array of permuation replicates.\"\"\"\n",
    "    out = np.empty(size)\n",
    "    for i in range(size):\n",
    "        x_perm, y_perm = draw_perm_sample(x, y)\n",
    "        out[i] = diff_means(x_perm, y_perm)\n",
    "\n",
    "    return out"
   ]
  },
  {
   "cell_type": "markdown",
   "metadata": {},
   "source": [
    "Because we want to resolve values below  to a $1x10^-3$ p-value, we will make $1x10^4$ bootstrap reps. "
   ]
  },
  {
   "cell_type": "code",
   "execution_count": 79,
   "metadata": {
    "ExecuteTime": {
     "end_time": "2019-11-21T19:18:16.049881Z",
     "start_time": "2019-11-21T19:18:13.675729Z"
    }
   },
   "outputs": [],
   "source": [
    "perm_reps = draw_perm_reps_diff_mean(labeled, unlabeled,size = np.int(1e4))"
   ]
  },
  {
   "cell_type": "code",
   "execution_count": 80,
   "metadata": {
    "ExecuteTime": {
     "end_time": "2019-11-21T19:18:16.068361Z",
     "start_time": "2019-11-21T19:18:16.055210Z"
    }
   },
   "outputs": [],
   "source": [
    "diff_mean = diff_means(labeled, unlabeled)"
   ]
  },
  {
   "cell_type": "code",
   "execution_count": 81,
   "metadata": {
    "ExecuteTime": {
     "end_time": "2019-11-21T19:18:16.085497Z",
     "start_time": "2019-11-21T19:18:16.078505Z"
    }
   },
   "outputs": [],
   "source": [
    "pval = np.sum(perm_reps >= diff_mean) / len(perm_reps)"
   ]
  },
  {
   "cell_type": "code",
   "execution_count": 82,
   "metadata": {
    "ExecuteTime": {
     "end_time": "2019-11-21T19:18:16.111242Z",
     "start_time": "2019-11-21T19:18:16.098980Z"
    }
   },
   "outputs": [
    {
     "data": {
      "text/plain": [
       "0.8997"
      ]
     },
     "execution_count": 82,
     "metadata": {},
     "output_type": "execute_result"
    }
   ],
   "source": [
    "pval"
   ]
  },
  {
   "cell_type": "markdown",
   "metadata": {},
   "source": [
    "It is possible to observe this test statistic under the null hypothesis, namely, that the labeled and unlabeled catastrophe times are identically distributed. This suggests that the measured data are commensurate with identical distributions."
   ]
  },
  {
   "cell_type": "markdown",
   "metadata": {},
   "source": [
    "\n",
    "**d)** In part (b), you used bootstrapping to compute a confidence interval for the plug-in estimate for the mean time to catastrophe. As is often (though definitely not always) the case, we could use a theoretical result to construct a confidence interval. The central limit theorem states that the mean, which is the sum of many processes, should be approximately Normally distributed. We will not derive it here, but the mean and variance of that Normal distribution are approximately\n",
    "\n",
    "\\begin{align}\n",
    "&\\mu = \\bar{x},\\\\[1em]\n",
    "&\\sigma^2 = \\frac{1}{n(n-1)}\\sum_{i=1}^n (x_i - \\bar{x})^2,\n",
    "\\end{align}\n",
    "\n",
    "where $\\bar{x}$ is the arithmetic mean of the data points. To compute a confidence interval of the mean, then, you can compute the interval over which 95% of the probability mass of the above described Normal distribution lies. \n",
    "\n",
    "Compute this approximate confidence interval and compare it to the result you got in part (b). *Hint*: You can use the `scipy.stats` package to conveniently get intervals for named distributions.\n",
    "\n"
   ]
  },
  {
   "cell_type": "code",
   "execution_count": 83,
   "metadata": {
    "ExecuteTime": {
     "end_time": "2019-11-21T19:18:16.221562Z",
     "start_time": "2019-11-21T19:18:16.160290Z"
    }
   },
   "outputs": [],
   "source": [
    "mean_lab_ci, _, _ = scipy.stats.bayes_mvs(labeled)\n",
    "mean_unlab_ci, _, _ = scipy.stats.bayes_mvs(unlabeled)"
   ]
  },
  {
   "cell_type": "code",
   "execution_count": 84,
   "metadata": {
    "ExecuteTime": {
     "end_time": "2019-11-21T19:18:16.249515Z",
     "start_time": "2019-11-21T19:18:16.238929Z"
    }
   },
   "outputs": [
    {
     "name": "stdout",
     "output_type": "stream",
     "text": [
      "Mean time to catastrophe 95 % confidence interval [407.02, 474.40]\n",
      "for the labeled microtubules using scipy. \n",
      "\n",
      "Mean time to catastrophe 95 % confidence interval [360.24, 464.81]\n",
      "for the unlabeled microtubules using scipy.\n"
     ]
    }
   ],
   "source": [
    "print(\"\"\"Mean time to catastrophe 95 % confidence interval [{0:.2f}, {1:.2f}]\n",
    "for the labeled microtubules using scipy. \\n\"\"\".format(*list(mean_lab_ci)[1]))\n",
    "\n",
    "print(\"\"\"Mean time to catastrophe 95 % confidence interval [{0:.2f}, {1:.2f}]\n",
    "for the unlabeled microtubules using scipy.\"\"\".format(*list(mean_unlab_ci)[1]))"
   ]
  },
  {
   "cell_type": "code",
   "execution_count": 85,
   "metadata": {
    "ExecuteTime": {
     "end_time": "2019-11-21T19:18:16.263177Z",
     "start_time": "2019-11-21T19:18:16.254975Z"
    }
   },
   "outputs": [
    {
     "name": "stdout",
     "output_type": "stream",
     "text": [
      "Mean time to catastrophe 95 % confidence interval [401.78, 481.95]\n",
      "for the labeled microtubules using bootstrap. \n",
      "\n",
      "Mean time to catastrophe 95 % confidence interval [352.31, 476.79]\n",
      "for the unlabeled microtubules using bootstrap.\n"
     ]
    }
   ],
   "source": [
    "print(\"\"\"Mean time to catastrophe 95 % confidence interval [{0:.2f}, {1:.2f}]\n",
    "for the labeled microtubules using bootstrap. \\n\"\"\".format(*mt_lab_mean_ci))\n",
    "\n",
    "print(\"\"\"Mean time to catastrophe 95 % confidence interval [{0:.2f}, {1:.2f}]\n",
    "for the unlabeled microtubules using bootstrap.\"\"\".format(*mt_non_lab_mean_ci))"
   ]
  },
  {
   "cell_type": "markdown",
   "metadata": {},
   "source": [
    "We can see that the results are fairly similar. In both cases the bootstrap confidence intervals are broader than the ones calculated with scipy."
   ]
  },
  {
   "cell_type": "markdown",
   "metadata": {},
   "source": [
    "In the notebooks that follow, we will restrict our analysis to the \"labeled\" datasets."
   ]
  },
  {
   "cell_type": "markdown",
   "metadata": {
    "ExecuteTime": {
     "end_time": "2019-11-19T10:12:55.190597Z",
     "start_time": "2019-11-19T10:12:55.177039Z"
    }
   },
   "source": [
    "<hr>"
   ]
  },
  {
   "cell_type": "code",
   "execution_count": 127,
   "metadata": {},
   "outputs": [
    {
     "name": "stdout",
     "output_type": "stream",
     "text": [
      "The watermark extension is already loaded. To reload it, use:\n",
      "  %reload_ext watermark\n",
      "CPython 3.7.4\n",
      "IPython 5.8.0\n",
      "\n",
      "bebi103 0.0.46\n",
      "pandas 0.24.2\n",
      "scipy 1.3.1\n",
      "numpy 1.17.3\n",
      "bokeh 1.4.0\n",
      "bokeh_catplot 0.1.6\n",
      "jupyterlab 1.2.0\n"
     ]
    }
   ],
   "source": [
    "%load_ext watermark\n",
    "%watermark -v -p bebi103,pandas,scipy,numpy,bokeh,bokeh_catplot,jupyterlab"
   ]
  }
 ],
 "metadata": {
  "kernelspec": {
   "display_name": "Python 3",
   "language": "python",
   "name": "python3"
  },
  "language_info": {
   "codemirror_mode": {
    "name": "ipython",
    "version": 3
   },
   "file_extension": ".py",
   "mimetype": "text/x-python",
   "name": "python",
   "nbconvert_exporter": "python",
   "pygments_lexer": "ipython3",
   "version": "3.7.4"
  }
 },
 "nbformat": 4,
 "nbformat_minor": 4
}
